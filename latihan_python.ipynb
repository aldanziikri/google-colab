{
  "nbformat": 4,
  "nbformat_minor": 0,
  "metadata": {
    "colab": {
      "provenance": [],
      "authorship_tag": "ABX9TyN37EzbJa3inRlS7rpfT5Pp",
      "include_colab_link": true
    },
    "kernelspec": {
      "name": "python3",
      "display_name": "Python 3"
    },
    "language_info": {
      "name": "python"
    }
  },
  "cells": [
    {
      "cell_type": "markdown",
      "metadata": {
        "id": "view-in-github",
        "colab_type": "text"
      },
      "source": [
        "<a href=\"https://colab.research.google.com/github/aldanziikri/google-colab/blob/main/latihan_python.ipynb\" target=\"_parent\"><img src=\"https://colab.research.google.com/assets/colab-badge.svg\" alt=\"Open In Colab\"/></a>"
      ]
    },
    {
      "cell_type": "code",
      "execution_count": null,
      "metadata": {
        "id": "x-oiT0jK23jt"
      },
      "outputs": [],
      "source": [
        "import math"
      ]
    },
    {
      "cell_type": "code",
      "source": [
        "print(int(math.sqrt(25)))"
      ],
      "metadata": {
        "colab": {
          "base_uri": "https://localhost:8080/"
        },
        "id": "UiFJRCEm_9hx",
        "outputId": "7672dbd9-1f09-46da-cfa5-e70852cb6e4f"
      },
      "execution_count": null,
      "outputs": [
        {
          "output_type": "stream",
          "name": "stdout",
          "text": [
            "5\n"
          ]
        }
      ]
    },
    {
      "cell_type": "code",
      "source": [
        "nama = \"aldan zikri\"\n",
        "kelas = \"XI PPLG 1\"\n",
        "tinggi = 153\n",
        "isStudent = True\n",
        "\n",
        "print(f\"nama saya {nama}, kelas {kelas}, tinggi saya {tinggi} cm, apakah saya siswa? {isStudent}\")"
      ],
      "metadata": {
        "colab": {
          "base_uri": "https://localhost:8080/"
        },
        "id": "kxq3aG_U5TIU",
        "outputId": "a66b3673-932a-4bc5-bd67-c5c4c4ee47c3"
      },
      "execution_count": null,
      "outputs": [
        {
          "output_type": "stream",
          "name": "stdout",
          "text": [
            "nama saya aldan zikri, kelas XI PPLG 1, tinggi saya 153 cm, apakah saya siswa? True\n"
          ]
        }
      ]
    },
    {
      "cell_type": "code",
      "source": [
        "if tinggi >= 160:\n",
        "  print(\"diizinkan masuk\")\n",
        "elif tinggi >= 150:\n",
        "  print(\"diizinkan masuk, tapi hati-hati\")\n",
        "else:\n",
        "  print(\"dilarang bermain wahana ini!\")"
      ],
      "metadata": {
        "colab": {
          "base_uri": "https://localhost:8080/"
        },
        "id": "0QnxpYyJ8HKI",
        "outputId": "232a0f25-d5ce-40ee-cfe9-0ae66d0962a6"
      },
      "execution_count": null,
      "outputs": [
        {
          "output_type": "stream",
          "name": "stdout",
          "text": [
            "diizinkan masuk, tapi hati-hati\n"
          ]
        }
      ]
    },
    {
      "cell_type": "code",
      "source": [
        "for i in range(10):\n",
        "  print(f\"looping ke-{i}\")"
      ],
      "metadata": {
        "colab": {
          "base_uri": "https://localhost:8080/"
        },
        "id": "51lgR2Ev9ZUm",
        "outputId": "cc0e97eb-ae62-480a-ec4f-4d19b13289c4"
      },
      "execution_count": null,
      "outputs": [
        {
          "output_type": "stream",
          "name": "stdout",
          "text": [
            "looping ke-0\n",
            "looping ke-1\n",
            "looping ke-2\n",
            "looping ke-3\n",
            "looping ke-4\n",
            "looping ke-5\n",
            "looping ke-6\n",
            "looping ke-7\n",
            "looping ke-8\n",
            "looping ke-9\n"
          ]
        }
      ]
    },
    {
      "cell_type": "code",
      "source": [
        "i = 1\n",
        "while i<= 10:\n",
        "  print(f\"looping ke-{i}\")\n",
        "  i += 1"
      ],
      "metadata": {
        "colab": {
          "base_uri": "https://localhost:8080/"
        },
        "id": "2BBaGtu-9s4s",
        "outputId": "e4187f4a-c0f8-49ea-a81d-e695b4829fa3"
      },
      "execution_count": null,
      "outputs": [
        {
          "output_type": "stream",
          "name": "stdout",
          "text": [
            "looping ke-1\n",
            "looping ke-2\n",
            "looping ke-3\n",
            "looping ke-4\n",
            "looping ke-5\n",
            "looping ke-6\n",
            "looping ke-7\n",
            "looping ke-8\n",
            "looping ke-9\n",
            "looping ke-10\n"
          ]
        }
      ]
    },
    {
      "cell_type": "code",
      "source": [
        "def greet(nama):\n",
        "  print(f\"hi {nama}\")\n",
        "\n",
        "greet(\"aldan\")\n",
        "\n",
        "def luas_persegi(sisi):\n",
        "  return sisi * sisi\n",
        "\n",
        "print(luas_persegi(10))"
      ],
      "metadata": {
        "colab": {
          "base_uri": "https://localhost:8080/"
        },
        "id": "rPVIdz3E-UVX",
        "outputId": "732d92b4-abfc-4ace-a820-14a904575376"
      },
      "execution_count": null,
      "outputs": [
        {
          "output_type": "stream",
          "name": "stdout",
          "text": [
            "hi aldan\n",
            "100\n"
          ]
        }
      ]
    },
    {
      "cell_type": "code",
      "source": [
        "nama = input(\"masukkan nama anda : \")\n",
        "umur = input(\"masukkan umur anda : \")\n",
        "print(\"==========================\")\n",
        "# print(f\"Nama : {nama}\")\n",
        "# print(f\"umur : {umur}\")\n",
        "print(f\"hai nama saya {nama}, saya berumur {umur} tahun\")"
      ],
      "metadata": {
        "colab": {
          "base_uri": "https://localhost:8080/"
        },
        "id": "wtuScOHU_Tcr",
        "outputId": "4b5511c6-ff73-4a39-b8b1-45cd24cb37a1"
      },
      "execution_count": null,
      "outputs": [
        {
          "output_type": "stream",
          "name": "stdout",
          "text": [
            "masukkan nama anda : aldan zikri\n",
            "masukkan umur anda : 17\n",
            "==========================\n",
            "hai nama saya aldan zikri, saya berumur 17\n"
          ]
        }
      ]
    }
  ]
}